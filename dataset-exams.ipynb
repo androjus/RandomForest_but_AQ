{
 "cells": [
  {
   "attachments": {},
   "cell_type": "markdown",
   "metadata": {},
   "source": [
    "# RandomForest but with Rule (AQ algorithm)\n",
    "\n",
    "Sample datasets are in the `example_data` folder\n",
    "\n",
    "## Dataset: `exams_uma.csv`"
   ]
  },
  {
   "attachments": {},
   "cell_type": "markdown",
   "metadata": {},
   "source": [
    "### Loading the needed libraries"
   ]
  },
  {
   "cell_type": "code",
   "execution_count": null,
   "metadata": {},
   "outputs": [],
   "source": [
    "import sys\n",
    "!{sys.executable} -m pip install -r requirements.txt"
   ]
  },
  {
   "cell_type": "code",
   "execution_count": 27,
   "metadata": {},
   "outputs": [],
   "source": [
    "import numpy as np\n",
    "from core.forest import Forest\n",
    "from sklearn.model_selection import train_test_split\n",
    "from sklearn import metrics\n",
    "import matplotlib.pyplot as plt\n",
    "from tqdm import tqdm"
   ]
  },
  {
   "attachments": {},
   "cell_type": "markdown",
   "metadata": {},
   "source": [
    "### Training and testing"
   ]
  },
  {
   "cell_type": "code",
   "execution_count": null,
   "metadata": {},
   "outputs": [],
   "source": [
    "all_stats = []\n",
    "acc_list = []\n",
    "\n",
    "data_exams = np.genfromtxt(fname=\"example_data/exams_uma.csv\", delimiter=\";\", dtype=str)\n",
    "data_exams = np.unique(data_exams, axis=0)\n",
    "\n",
    "for _ in range(30):\n",
    "    training, test = train_test_split(data_exams, test_size=0.2, random_state=0, shuffle=True)\n",
    "    forest_exams = Forest(n_tree=100, train_x=training[:,:5], train_y=training[:,5:])\n",
    "    size = test.shape[0]\n",
    "    score = []\n",
    "    results = []\n",
    "    print(\"Testing...\")\n",
    "    for test_x in tqdm(test[:,:5]):\n",
    "        result, prec = forest_exams.predict(test_x)\n",
    "        results.append(result.tolist())\n",
    "        score.append(prec)\n",
    "\n",
    "    test_y = test[:,5:]\n",
    "    fpr, tpr, _ = metrics.roc_curve(test_y, score, pos_label=['1'])\n",
    "\n",
    "    stats = {}\n",
    "    stats[\"acc\"] = metrics.accuracy_score(test_y, results)\n",
    "    stats[\"precision\"] = metrics.precision_score(test_y, results, labels=['1'], average='micro')\n",
    "    stats[\"recall\"] = metrics.recall_score(test_y, results, labels=['1'], average='micro')\n",
    "    stats[\"f1_score\"] = metrics.f1_score(test_y, results, labels=['1'], average='micro')\n",
    "    stats[\"auc\"] = metrics.auc(fpr, tpr)\n",
    "    stats[\"fpr\"] = fpr\n",
    "    stats[\"tpr\"] = tpr\n",
    "    stats[\"cm\"] = metrics.confusion_matrix(test_y,results)\n",
    "\n",
    "    all_stats.append(stats)\n",
    "    "
   ]
  },
  {
   "cell_type": "code",
   "execution_count": 29,
   "metadata": {},
   "outputs": [],
   "source": [
    "def stats(dict_list, key):\n",
    "    list = [el[key] for el in dict_list]\n",
    "    np_list = np.array(list)\n",
    "    return np.mean(np_list), np.std(np_list)\n",
    "\n",
    "def get_min_and_max(dict_list, key):\n",
    "    list = [el[key] for el in dict_list]\n",
    "    return list.index(min(list)), list.index(max(list))\n"
   ]
  },
  {
   "attachments": {},
   "cell_type": "markdown",
   "metadata": {},
   "source": [
    "### Result"
   ]
  },
  {
   "cell_type": "code",
   "execution_count": 31,
   "metadata": {},
   "outputs": [
    {
     "data": {
      "text/plain": [
       "(0.6037037037037039, 0.031073115047674117)"
      ]
     },
     "execution_count": 31,
     "metadata": {},
     "output_type": "execute_result"
    }
   ],
   "source": [
    "#mean and std for acc\n",
    "stats(all_stats, \"acc\")"
   ]
  },
  {
   "cell_type": "code",
   "execution_count": 32,
   "metadata": {},
   "outputs": [
    {
     "data": {
      "text/plain": [
       "(0.6733652608223542, 0.018360317956451405)"
      ]
     },
     "execution_count": 32,
     "metadata": {},
     "output_type": "execute_result"
    }
   ],
   "source": [
    "#mean and std for precision\n",
    "stats(all_stats, \"precision\")"
   ]
  },
  {
   "cell_type": "code",
   "execution_count": 33,
   "metadata": {},
   "outputs": [
    {
     "data": {
      "text/plain": [
       "(0.7370197768915702, 0.023112775653859743)"
      ]
     },
     "execution_count": 33,
     "metadata": {},
     "output_type": "execute_result"
    }
   ],
   "source": [
    "#mean and std for f1_score\n",
    "stats(all_stats, \"f1_score\")"
   ]
  },
  {
   "cell_type": "code",
   "execution_count": 37,
   "metadata": {},
   "outputs": [],
   "source": [
    "#worst and best index by acc\n",
    "min_v, max_v = get_min_and_max(all_stats, \"acc\")"
   ]
  },
  {
   "cell_type": "code",
   "execution_count": 38,
   "metadata": {},
   "outputs": [
    {
     "data": {
      "text/plain": [
       "{'acc': 0.5396825396825397,\n",
       " 'precision': 0.64,\n",
       " 'recall': 0.7441860465116279,\n",
       " 'f1_score': 0.6881720430107526,\n",
       " 'auc': 0.46453488372093027,\n",
       " 'fpr': array([0.  , 0.  , 0.  , 0.15, 0.15, 0.2 , 0.25, 0.25, 0.3 , 0.35, 0.5 ,\n",
       "        0.5 , 0.65, 0.75, 0.8 , 0.8 , 0.85, 0.95, 1.  , 1.  , 1.  , 1.  ]),\n",
       " 'tpr': array([0.        , 0.02325581, 0.09302326, 0.09302326, 0.13953488,\n",
       "        0.18604651, 0.25581395, 0.3255814 , 0.3255814 , 0.37209302,\n",
       "        0.48837209, 0.53488372, 0.55813953, 0.60465116, 0.69767442,\n",
       "        0.74418605, 0.79069767, 0.81395349, 0.86046512, 0.88372093,\n",
       "        0.97674419, 1.        ]),\n",
       " 'cm': array([[ 2, 18],\n",
       "        [11, 32]], dtype=int64)}"
      ]
     },
     "execution_count": 38,
     "metadata": {},
     "output_type": "execute_result"
    }
   ],
   "source": [
    "all_stats[min_v]"
   ]
  },
  {
   "cell_type": "code",
   "execution_count": 39,
   "metadata": {},
   "outputs": [
    {
     "data": {
      "text/plain": [
       "{'acc': 0.6666666666666666,\n",
       " 'precision': 0.6964285714285714,\n",
       " 'recall': 0.9069767441860465,\n",
       " 'f1_score': 0.7878787878787877,\n",
       " 'auc': 0.5377906976744187,\n",
       " 'fpr': array([0.  , 0.  , 0.  , 0.  , 0.  , 0.05, 0.1 , 0.15, 0.15, 0.15, 0.25,\n",
       "        0.25, 0.3 , 0.4 , 0.4 , 0.5 , 0.5 , 0.7 , 0.7 , 0.75, 0.75, 0.8 ,\n",
       "        0.8 , 0.85, 0.9 , 0.95, 1.  ]),\n",
       " 'tpr': array([0.        , 0.02325581, 0.06976744, 0.11627907, 0.13953488,\n",
       "        0.13953488, 0.18604651, 0.18604651, 0.27906977, 0.30232558,\n",
       "        0.3255814 , 0.34883721, 0.34883721, 0.39534884, 0.41860465,\n",
       "        0.46511628, 0.51162791, 0.65116279, 0.69767442, 0.72093023,\n",
       "        0.81395349, 0.8372093 , 0.88372093, 0.88372093, 0.97674419,\n",
       "        1.        , 1.        ]),\n",
       " 'cm': array([[ 3, 17],\n",
       "        [ 4, 39]], dtype=int64)}"
      ]
     },
     "execution_count": 39,
     "metadata": {},
     "output_type": "execute_result"
    }
   ],
   "source": [
    "all_stats[max_v]"
   ]
  },
  {
   "attachments": {},
   "cell_type": "markdown",
   "metadata": {},
   "source": [
    "### ROC curve for worst and best result"
   ]
  },
  {
   "cell_type": "code",
   "execution_count": 40,
   "metadata": {},
   "outputs": [
    {
     "data": {
      "text/plain": [
       "<matplotlib.legend.Legend at 0x18509d94b50>"
      ]
     },
     "execution_count": 40,
     "metadata": {},
     "output_type": "execute_result"
    },
    {
     "data": {
      "image/png": "[encoded data removed]",
      "text/plain": [
       "<Figure size 432x288 with 1 Axes>"
      ]
     },
     "metadata": {
      "needs_background": "light"
     },
     "output_type": "display_data"
    }
   ],
   "source": [
    "plt.figure()\n",
    "plt.plot(all_stats[min_v][\"fpr\"], all_stats[min_v][\"tpr\"], lw=2)\n",
    "plt.plot([0, 1], \n",
    "             [0, 1], \n",
    "             color=\"navy\", \n",
    "             lw=2, \n",
    "             linestyle=\"--\",\n",
    "             label=\"ROC curve (area = %0.3f)\" % all_stats[min_v][\"auc\"])\n",
    "plt.xlim([0.0, 1.0])\n",
    "plt.ylim([0.0, 1.05])\n",
    "plt.xlabel(\"False Positive Rate\")\n",
    "plt.ylabel(\"True Positive Rate\")\n",
    "plt.title(\"ROC Curve\")\n",
    "plt.legend(loc=\"lower right\")"
   ]
  },
  {
   "cell_type": "code",
   "execution_count": 41,
   "metadata": {},
   "outputs": [
    {
     "data": {
      "text/plain": [
       "<matplotlib.legend.Legend at 0x1850bed9040>"
      ]
     },
     "execution_count": 41,
     "metadata": {},
     "output_type": "execute_result"
    },
    {
     "data": {
      "image/png": "[encoded data removed]",
      "text/plain": [
       "<Figure size 432x288 with 1 Axes>"
      ]
     },
     "metadata": {
      "needs_background": "light"
     },
     "output_type": "display_data"
    }
   ],
   "source": [
    "plt.figure()\n",
    "plt.plot(all_stats[max_v][\"fpr\"], all_stats[max_v][\"tpr\"], lw=2)\n",
    "plt.plot([0, 1], \n",
    "             [0, 1], \n",
    "             color=\"navy\", \n",
    "             lw=2, \n",
    "             linestyle=\"--\",\n",
    "             label=\"ROC curve (area = %0.3f)\" % all_stats[max_v][\"auc\"])\n",
    "plt.xlim([0.0, 1.0])\n",
    "plt.ylim([0.0, 1.05])\n",
    "plt.xlabel(\"False Positive Rate\")\n",
    "plt.ylabel(\"True Positive Rate\")\n",
    "plt.title(\"ROC Curve\")\n",
    "plt.legend(loc=\"lower right\")"
   ]
  },
  {
   "attachments": {},
   "cell_type": "markdown",
   "metadata": {},
   "source": [
    "### Confusion Matrix for worst and best"
   ]
  },
  {
   "cell_type": "code",
   "execution_count": 42,
   "metadata": {},
   "outputs": [
    {
     "data": {
      "image/png": "[encoded data removed]",
      "text/plain": [
       "<Figure size 432x288 with 2 Axes>"
      ]
     },
     "metadata": {
      "needs_background": "light"
     },
     "output_type": "display_data"
    }
   ],
   "source": [
    "pcm = metrics.ConfusionMatrixDisplay(confusion_matrix=all_stats[min_v][\"cm\"])\n",
    "pcm.plot()\n",
    "plt.show()"
   ]
  },
  {
   "cell_type": "code",
   "execution_count": 43,
   "metadata": {},
   "outputs": [
    {
     "data": {
      "image/png": "[encoded data removed]",
      "text/plain": [
       "<Figure size 432x288 with 2 Axes>"
      ]
     },
     "metadata": {
      "needs_background": "light"
     },
     "output_type": "display_data"
    }
   ],
   "source": [
    "pcm = metrics.ConfusionMatrixDisplay(confusion_matrix=all_stats[max_v][\"cm\"])\n",
    "pcm.plot()\n",
    "plt.show()"
   ]
  }
 ],
 "metadata": {
  "kernelspec": {
   "display_name": "Python 3",
   "language": "python",
   "name": "python3"
  },
  "language_info": {
   "codemirror_mode": {
    "name": "ipython",
    "version": 3
   },
   "file_extension": ".py",
   "mimetype": "text/x-python",
   "name": "python",
   "nbconvert_exporter": "python",
   "pygments_lexer": "ipython3",
   "version": "3.9.6"
  },
  "orig_nbformat": 4,
  "vscode": {
   "interpreter": {
    "hash": "48e016adc810f44ce10940e5316478a3a207f276705c01f8d308ed6cbd5d8765"
   }
  }
 },
 "nbformat": 4,
 "nbformat_minor": 2
}
