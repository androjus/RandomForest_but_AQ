{
 "cells": [
  {
   "attachments": {},
   "cell_type": "markdown",
   "metadata": {},
   "source": [
    "# RandomForest but with Rule (AQ algorithm)\n",
    "\n",
    "Sample datasets are in the `example_data` folder\n",
    "\n",
    "## Dataset: `exams_uma.csv`"
   ]
  },
  {
   "attachments": {},
   "cell_type": "markdown",
   "metadata": {},
   "source": [
    "### Loading the needed libraries"
   ]
  },
  {
   "cell_type": "code",
   "execution_count": null,
   "metadata": {},
   "outputs": [],
   "source": [
    "import sys\n",
    "!{sys.executable} -m pip install -r requirements.txt"
   ]
  },
  {
   "cell_type": "code",
   "execution_count": 33,
   "metadata": {},
   "outputs": [],
   "source": [
    "import numpy as np\n",
    "from core.forest import Forest\n",
    "from sklearn.model_selection import train_test_split\n",
    "from sklearn import metrics\n",
    "import matplotlib.pyplot as plt\n",
    "from tqdm import tqdm"
   ]
  },
  {
   "attachments": {},
   "cell_type": "markdown",
   "metadata": {},
   "source": [
    "### Training and testing"
   ]
  },
  {
   "cell_type": "code",
   "execution_count": null,
   "metadata": {},
   "outputs": [],
   "source": [
    "all_stats = []\n",
    "acc_list = []\n",
    "\n",
    "data_exams = np.genfromtxt(fname=\"example_data/exams_uma.csv\", delimiter=\";\", dtype=str)\n",
    "data_exams = np.unique(data_exams, axis=0)\n",
    "\n",
    "for _ in range(30):\n",
    "    training, test = train_test_split(data_exams, test_size=0.2, random_state=0, shuffle=True)\n",
    "    forest_exams = Forest(n_tree=100, train_x=training[:,:5], train_y=training[:,5:])\n",
    "    size = test.shape[0]\n",
    "    score = []\n",
    "    results = []\n",
    "    print(\"Testing...\")\n",
    "    for test_x in tqdm(test[:,:5]):\n",
    "        result, prec = forest_exams.predict(test_x)\n",
    "        results.append(result.tolist())\n",
    "        score.append(prec)\n",
    "\n",
    "    test_y = test[:,5:]\n",
    "    fpr, tpr, _ = metrics.roc_curve(test_y, score, pos_label=['1'])\n",
    "\n",
    "    stats = {}\n",
    "    stats[\"acc\"] = metrics.accuracy_score(test_y, results)\n",
    "    stats[\"precision\"] = metrics.precision_score(test_y, results, labels=['1'], average='micro')\n",
    "    stats[\"recall\"] = metrics.recall_score(test_y, results, labels=['1'], average='micro')\n",
    "    stats[\"f1_score\"] = metrics.f1_score(test_y, results, labels=['1'], average='micro')\n",
    "    stats[\"auc\"] = metrics.auc(fpr, tpr)\n",
    "    stats[\"fpr\"] = fpr\n",
    "    stats[\"tpr\"] = tpr\n",
    "    stats[\"cm\"] = metrics.confusion_matrix(test_y,results)\n",
    "\n",
    "    all_stats.append(stats)\n",
    "    "
   ]
  },
  {
   "cell_type": "code",
   "execution_count": 39,
   "metadata": {},
   "outputs": [],
   "source": [
    "def stats(dict_list, key):\n",
    "    list = [el[key] for el in dict_list]\n",
    "    np_list = np.array(list)\n",
    "    return np.mean(np_list), np.std(np_list)\n",
    "\n",
    "def get_min_and_max(dict_list, key):\n",
    "    list = [el[key] for el in dict_list]\n",
    "    return list.index(min(list)), list.index(max(list))\n"
   ]
  },
  {
   "attachments": {},
   "cell_type": "markdown",
   "metadata": {},
   "source": [
    "### Result"
   ]
  },
  {
   "cell_type": "code",
   "execution_count": 36,
   "metadata": {},
   "outputs": [
    {
     "data": {
      "text/plain": [
       "(0.6142857142857144, 0.029023466988153376)"
      ]
     },
     "execution_count": 36,
     "metadata": {},
     "output_type": "execute_result"
    }
   ],
   "source": [
    "#mean and std for acc\n",
    "stats(all_stats, \"acc\")"
   ]
  },
  {
   "cell_type": "code",
   "execution_count": 35,
   "metadata": {},
   "outputs": [
    {
     "data": {
      "text/plain": [
       "(0.6781717585686504, 0.016325184663792132)"
      ]
     },
     "execution_count": 35,
     "metadata": {},
     "output_type": "execute_result"
    }
   ],
   "source": [
    "#mean and std for precision\n",
    "stats(all_stats, \"precision\")"
   ]
  },
  {
   "cell_type": "code",
   "execution_count": 34,
   "metadata": {},
   "outputs": [
    {
     "data": {
      "text/plain": [
       "(0.7451472718661267, 0.02309816315445437)"
      ]
     },
     "execution_count": 34,
     "metadata": {},
     "output_type": "execute_result"
    }
   ],
   "source": [
    "#mean and std for f1_score\n",
    "stats(all_stats, \"f1_score\")"
   ]
  },
  {
   "cell_type": "code",
   "execution_count": 42,
   "metadata": {},
   "outputs": [],
   "source": [
    "#worst and best index by acc\n",
    "min, max = get_min_and_max(all_stats, \"acc\")"
   ]
  },
  {
   "attachments": {},
   "cell_type": "markdown",
   "metadata": {},
   "source": [
    "### ROC curve for worst and best result"
   ]
  },
  {
   "cell_type": "code",
   "execution_count": 43,
   "metadata": {},
   "outputs": [
    {
     "data": {
      "text/plain": [
       "<matplotlib.legend.Legend at 0x19ceb35dca0>"
      ]
     },
     "execution_count": 43,
     "metadata": {},
     "output_type": "execute_result"
    },
    {
     "data": {
      "image/png": "[encoded data removed]",
      "text/plain": [
       "<Figure size 432x288 with 1 Axes>"
      ]
     },
     "metadata": {
      "needs_background": "light"
     },
     "output_type": "display_data"
    }
   ],
   "source": [
    "plt.figure()\n",
    "plt.plot(all_stats[min][\"fpr\"], all_stats[min][\"tpr\"], lw=2)\n",
    "plt.plot([0, 1], \n",
    "             [0, 1], \n",
    "             color=\"navy\", \n",
    "             lw=2, \n",
    "             linestyle=\"--\",\n",
    "             label=\"ROC curve (area = %0.3f)\" % all_stats[min][\"auc\"])\n",
    "plt.xlim([0.0, 1.0])\n",
    "plt.ylim([0.0, 1.05])\n",
    "plt.xlabel(\"False Positive Rate\")\n",
    "plt.ylabel(\"True Positive Rate\")\n",
    "plt.title(\"ROC Curve\")\n",
    "plt.legend(loc=\"lower right\")"
   ]
  },
  {
   "cell_type": "code",
   "execution_count": 45,
   "metadata": {},
   "outputs": [
    {
     "data": {
      "text/plain": [
       "<matplotlib.legend.Legend at 0x19ceb155bb0>"
      ]
     },
     "execution_count": 45,
     "metadata": {},
     "output_type": "execute_result"
    },
    {
     "data": {
      "image/png": "[encoded data removed]",
      "text/plain": [
       "<Figure size 432x288 with 1 Axes>"
      ]
     },
     "metadata": {
      "needs_background": "light"
     },
     "output_type": "display_data"
    }
   ],
   "source": [
    "plt.figure()\n",
    "plt.plot(all_stats[max][\"fpr\"], all_stats[max][\"tpr\"], lw=2)\n",
    "plt.plot([0, 1], \n",
    "             [0, 1], \n",
    "             color=\"navy\", \n",
    "             lw=2, \n",
    "             linestyle=\"--\",\n",
    "             label=\"ROC curve (area = %0.3f)\" % all_stats[max][\"auc\"])\n",
    "plt.xlim([0.0, 1.0])\n",
    "plt.ylim([0.0, 1.05])\n",
    "plt.xlabel(\"False Positive Rate\")\n",
    "plt.ylabel(\"True Positive Rate\")\n",
    "plt.title(\"ROC Curve\")\n",
    "plt.legend(loc=\"lower right\")"
   ]
  },
  {
   "attachments": {},
   "cell_type": "markdown",
   "metadata": {},
   "source": [
    "### Confusion Matrix for worst and best"
   ]
  },
  {
   "cell_type": "code",
   "execution_count": 46,
   "metadata": {},
   "outputs": [
    {
     "data": {
      "image/png": "[encoded data removed]",
      "text/plain": [
       "<Figure size 432x288 with 2 Axes>"
      ]
     },
     "metadata": {
      "needs_background": "light"
     },
     "output_type": "display_data"
    }
   ],
   "source": [
    "pcm = metrics.ConfusionMatrixDisplay(confusion_matrix=all_stats[min][\"cm\"])\n",
    "pcm.plot()\n",
    "plt.show()"
   ]
  },
  {
   "cell_type": "code",
   "execution_count": 47,
   "metadata": {},
   "outputs": [
    {
     "data": {
      "image/png": "[encoded data removed]",
      "text/plain": [
       "<Figure size 432x288 with 2 Axes>"
      ]
     },
     "metadata": {
      "needs_background": "light"
     },
     "output_type": "display_data"
    }
   ],
   "source": [
    "pcm = metrics.ConfusionMatrixDisplay(confusion_matrix=all_stats[max][\"cm\"])\n",
    "pcm.plot()\n",
    "plt.show()"
   ]
  }
 ],
 "metadata": {
  "kernelspec": {
   "display_name": "Python 3",
   "language": "python",
   "name": "python3"
  },
  "language_info": {
   "codemirror_mode": {
    "name": "ipython",
    "version": 3
   },
   "file_extension": ".py",
   "mimetype": "text/x-python",
   "name": "python",
   "nbconvert_exporter": "python",
   "pygments_lexer": "ipython3",
   "version": "3.9.6 (tags/v3.9.6:db3ff76, Jun 28 2021, 15:26:21) [MSC v.1929 64 bit (AMD64)]"
  },
  "orig_nbformat": 4,
  "vscode": {
   "interpreter": {
    "hash": "48e016adc810f44ce10940e5316478a3a207f276705c01f8d308ed6cbd5d8765"
   }
  }
 },
 "nbformat": 4,
 "nbformat_minor": 2
}
