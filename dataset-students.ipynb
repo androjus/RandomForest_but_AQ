{
 "cells": [
  {
   "attachments": {},
   "cell_type": "markdown",
   "metadata": {},
   "source": [
    "# RandomForest but with Rule (AQ algorithm)\n",
    "\n",
    "Sample datasets are in the `example_data` folder\n",
    "\n",
    "## Dataset: `student-alcohol_uma.csv`"
   ]
  },
  {
   "attachments": {},
   "cell_type": "markdown",
   "metadata": {},
   "source": [
    "### Loading the needed libraries"
   ]
  },
  {
   "cell_type": "code",
   "execution_count": null,
   "metadata": {},
   "outputs": [],
   "source": [
    "import sys\n",
    "!{sys.executable} -m pip install -r requirements.txt"
   ]
  },
  {
   "cell_type": "code",
   "execution_count": 1,
   "metadata": {},
   "outputs": [],
   "source": [
    "import numpy as np\n",
    "from core.forest import Forest\n",
    "from sklearn.model_selection import train_test_split\n",
    "from sklearn import metrics\n",
    "import matplotlib.pyplot as plt\n",
    "from tqdm import tqdm"
   ]
  },
  {
   "attachments": {},
   "cell_type": "markdown",
   "metadata": {},
   "source": [
    "### Training and testing"
   ]
  },
  {
   "cell_type": "code",
   "execution_count": null,
   "metadata": {},
   "outputs": [],
   "source": [
    "all_stats = []\n",
    "acc_list = []\n",
    "\n",
    "data_exams = np.genfromtxt(fname=\"example_data/student-alcohol_uma.csv\", delimiter=\";\", dtype=str)\n",
    "data_exams = np.unique(data_exams, axis=0)\n",
    "\n",
    "for _ in range(30):\n",
    "    training, test = train_test_split(data_exams, test_size=0.2, random_state=0, shuffle=True)\n",
    "    forest_exams = Forest(n_tree=100, train_x=training[:,:30], train_y=training[:,30:])\n",
    "    size = test.shape[0]\n",
    "    score = []\n",
    "    results = []\n",
    "    print(\"Testing...\")\n",
    "    for test_x in tqdm(test[:,:30]):\n",
    "        result, prec = forest_exams.predict(test_x)\n",
    "        results.append(result.tolist())\n",
    "        score.append(prec)\n",
    "\n",
    "    test_y = test[:,30:]\n",
    "\n",
    "    stats = {}\n",
    "    stats[\"acc\"] = metrics.accuracy_score(test_y, results)\n",
    "    stats[\"cm\"] = metrics.confusion_matrix(test_y,results)\n",
    "\n",
    "    all_stats.append(stats)\n",
    "    "
   ]
  },
  {
   "cell_type": "code",
   "execution_count": 43,
   "metadata": {},
   "outputs": [],
   "source": [
    "def stats(dict_list, key):\n",
    "    list = [el[key] for el in dict_list]\n",
    "    np_list = np.array(list)\n",
    "    return np.mean(np_list), np.std(np_list)\n",
    "\n",
    "def get_min_and_max(dict_list, key):\n",
    "    list = [el[key] for el in dict_list]\n",
    "    return list.index(min(list)), list.index(max(list))\n"
   ]
  },
  {
   "attachments": {},
   "cell_type": "markdown",
   "metadata": {},
   "source": [
    "### Result"
   ]
  },
  {
   "cell_type": "code",
   "execution_count": 51,
   "metadata": {},
   "outputs": [
    {
     "data": {
      "text/plain": [
       "(0.3915611814345992, 0.02572109815042729)"
      ]
     },
     "execution_count": 51,
     "metadata": {},
     "output_type": "execute_result"
    }
   ],
   "source": [
    "#mean and std for acc\n",
    "stats(all_stats, \"acc\")"
   ]
  },
  {
   "cell_type": "code",
   "execution_count": 48,
   "metadata": {},
   "outputs": [],
   "source": [
    "#worst and best index by acc\n",
    "min_v, max_v = get_min_and_max(all_stats, \"acc\")"
   ]
  },
  {
   "cell_type": "code",
   "execution_count": 49,
   "metadata": {},
   "outputs": [
    {
     "data": {
      "text/plain": [
       "{'acc': 0.3291139240506329,\n",
       " 'cm': array([[ 0,  0,  1,  0,  7],\n",
       "        [ 0,  0,  3,  0,  4],\n",
       "        [ 0,  0,  1,  1, 14],\n",
       "        [ 0,  0,  2,  1, 12],\n",
       "        [ 0,  0,  7,  2, 24]], dtype=int64)}"
      ]
     },
     "execution_count": 49,
     "metadata": {},
     "output_type": "execute_result"
    }
   ],
   "source": [
    "all_stats[min_v]"
   ]
  },
  {
   "cell_type": "code",
   "execution_count": 50,
   "metadata": {},
   "outputs": [
    {
     "data": {
      "text/plain": [
       "{'acc': 0.43037974683544306,\n",
       " 'cm': array([[ 0,  0,  1,  0,  7],\n",
       "        [ 0,  0,  3,  0,  4],\n",
       "        [ 0,  0,  5,  0, 11],\n",
       "        [ 0,  0,  3,  1, 11],\n",
       "        [ 0,  0,  4,  1, 28]], dtype=int64)}"
      ]
     },
     "execution_count": 50,
     "metadata": {},
     "output_type": "execute_result"
    }
   ],
   "source": [
    "all_stats[max_v]"
   ]
  },
  {
   "attachments": {},
   "cell_type": "markdown",
   "metadata": {},
   "source": [
    "### Confusion Matrix for worst and best"
   ]
  },
  {
   "cell_type": "code",
   "execution_count": 52,
   "metadata": {},
   "outputs": [
    {
     "data": {
      "image/png": "[encoded data removed]",
      "text/plain": [
       "<Figure size 432x288 with 2 Axes>"
      ]
     },
     "metadata": {
      "needs_background": "light"
     },
     "output_type": "display_data"
    }
   ],
   "source": [
    "pcm = metrics.ConfusionMatrixDisplay(confusion_matrix=all_stats[min_v][\"cm\"])\n",
    "pcm.plot()\n",
    "plt.show()"
   ]
  },
  {
   "cell_type": "code",
   "execution_count": 53,
   "metadata": {},
   "outputs": [
    {
     "data": {
      "image/png": "[encoded data removed]",
      "text/plain": [
       "<Figure size 432x288 with 2 Axes>"
      ]
     },
     "metadata": {
      "needs_background": "light"
     },
     "output_type": "display_data"
    }
   ],
   "source": [
    "pcm = metrics.ConfusionMatrixDisplay(confusion_matrix=all_stats[max_v][\"cm\"])\n",
    "pcm.plot()\n",
    "plt.show()"
   ]
  }
 ],
 "metadata": {
  "kernelspec": {
   "display_name": "Python 3",
   "language": "python",
   "name": "python3"
  },
  "language_info": {
   "codemirror_mode": {
    "name": "ipython",
    "version": 3
   },
   "file_extension": ".py",
   "mimetype": "text/x-python",
   "name": "python",
   "nbconvert_exporter": "python",
   "pygments_lexer": "ipython3",
   "version": "3.9.6"
  },
  "orig_nbformat": 4,
  "vscode": {
   "interpreter": {
    "hash": "48e016adc810f44ce10940e5316478a3a207f276705c01f8d308ed6cbd5d8765"
   }
  }
 },
 "nbformat": 4,
 "nbformat_minor": 2
}
