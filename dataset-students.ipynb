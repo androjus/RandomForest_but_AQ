{
 "cells": [
  {
   "attachments": {},
   "cell_type": "markdown",
   "metadata": {},
   "source": [
    "# RandomForest but with Rule (AQ algorithm)\n",
    "\n",
    "Sample datasets are in the `example_data` folder\n",
    "\n",
    "## Dataset: `student-alcohol_uma.csv`"
   ]
  },
  {
   "attachments": {},
   "cell_type": "markdown",
   "metadata": {},
   "source": [
    "### Loading the needed libraries"
   ]
  },
  {
   "cell_type": "code",
   "execution_count": null,
   "metadata": {},
   "outputs": [],
   "source": [
    "import sys\n",
    "!{sys.executable} -m pip install -r requirements.txt"
   ]
  },
  {
   "cell_type": "code",
   "execution_count": 1,
   "metadata": {},
   "outputs": [],
   "source": [
    "import numpy as np\n",
    "from core.forest import Forest\n",
    "from sklearn.model_selection import KFold\n",
    "from sklearn import metrics\n",
    "import matplotlib.pyplot as plt\n",
    "from tqdm import tqdm"
   ]
  },
  {
   "attachments": {},
   "cell_type": "markdown",
   "metadata": {},
   "source": [
    "### Training and testing"
   ]
  },
  {
   "cell_type": "code",
   "execution_count": null,
   "metadata": {},
   "outputs": [],
   "source": [
    "all_stats = []\n",
    "\n",
    "mean_fpr = np.linspace(0, 1, 100)\n",
    "tprs = []\n",
    "aucs = []\n",
    "\n",
    "data = np.genfromtxt(fname=\"example_data/student-alcohol_uma.csv\", delimiter=\";\", dtype=str)\n",
    "X, y = data[:,:30], data[:,30:]\n",
    "\n",
    "for _ in range(5):\n",
    "    cv = KFold(n_splits=10, shuffle=True)\n",
    "    for train_ix, test_ix in cv.split(X):\n",
    "        X_train, X_test = X[train_ix], X[test_ix]\n",
    "        y_train, y_test = y[train_ix], y[test_ix]\n",
    "\n",
    "        forest = Forest(n_tree=20, train_x=X_train, train_y=y_train)\n",
    "        score = []\n",
    "        results = []\n",
    "        print(\"Testing...\")\n",
    "        for test_x in tqdm(X_test):\n",
    "            result, prec = forest.predict(test_x)\n",
    "            results.append(result.tolist())\n",
    "            score.append(prec)\n",
    "\n",
    "        test_y = y_test\n",
    "\n",
    "        fpr, tpr, _ = metrics.roc_curve(test_y, score, pos_label=['1'])\n",
    "\n",
    "        stats = {}\n",
    "        stats[\"acc\"] = metrics.accuracy_score(test_y, results)\n",
    "        stats[\"precision\"] = metrics.precision_score(test_y, results, average='micro')\n",
    "        stats[\"recall\"] = metrics.recall_score(test_y, results, average='micro')\n",
    "        stats[\"f1_score\"] = metrics.f1_score(test_y, results, average='micro')\n",
    "        stats[\"auc\"] = metrics.auc(fpr, tpr)\n",
    "        stats[\"fpr\"] = fpr\n",
    "        stats[\"tpr\"] = tpr\n",
    "        stats[\"cm\"] = metrics.confusion_matrix(test_y,results)\n",
    "\n",
    "\n",
    "        interp_tpr = np.interp(mean_fpr, stats[\"fpr\"], stats[\"tpr\"])\n",
    "        interp_tpr[0] = 0.0\n",
    "        tprs.append(interp_tpr)\n",
    "        aucs.append(stats[\"auc\"])\n",
    "\n",
    "        all_stats.append(stats)\n",
    "    "
   ]
  },
  {
   "cell_type": "code",
   "execution_count": 21,
   "metadata": {},
   "outputs": [],
   "source": [
    "def stats(dict_list, key):\n",
    "    list = [el[key] for el in dict_list]\n",
    "    np_list = np.array(list)\n",
    "    return np.mean(np_list), np.std(np_list)\n",
    "\n",
    "def get_min_and_max(dict_list, key):\n",
    "    list = [el[key] for el in dict_list]\n",
    "    return list.index(min(list)), list.index(max(list))\n"
   ]
  },
  {
   "attachments": {},
   "cell_type": "markdown",
   "metadata": {},
   "source": [
    "### Result"
   ]
  },
  {
   "cell_type": "code",
   "execution_count": 22,
   "metadata": {},
   "outputs": [
    {
     "data": {
      "text/plain": [
       "(0.32939743589743586, 0.07096046834020435)"
      ]
     },
     "execution_count": 22,
     "metadata": {},
     "output_type": "execute_result"
    }
   ],
   "source": [
    "#mean and std for acc\n",
    "stats(all_stats, \"acc\")"
   ]
  },
  {
   "cell_type": "code",
   "execution_count": 23,
   "metadata": {},
   "outputs": [
    {
     "data": {
      "text/plain": [
       "(0.32939743589743586, 0.07096046834020435)"
      ]
     },
     "execution_count": 23,
     "metadata": {},
     "output_type": "execute_result"
    }
   ],
   "source": [
    "#mean and std for precision\n",
    "stats(all_stats, \"precision\")"
   ]
  },
  {
   "cell_type": "code",
   "execution_count": 24,
   "metadata": {},
   "outputs": [
    {
     "data": {
      "text/plain": [
       "(0.32939743589743586, 0.07096046834020435)"
      ]
     },
     "execution_count": 24,
     "metadata": {},
     "output_type": "execute_result"
    }
   ],
   "source": [
    "#mean and std for f1_score\n",
    "stats(all_stats, \"f1_score\")"
   ]
  },
  {
   "cell_type": "code",
   "execution_count": 33,
   "metadata": {},
   "outputs": [],
   "source": [
    "#worst and best index by acc\n",
    "min_v_acc, max_v_acc = get_min_and_max(all_stats, \"acc\")\n",
    "min_v_auc, max_v_auc = get_min_and_max(all_stats, \"auc\")"
   ]
  },
  {
   "attachments": {},
   "cell_type": "markdown",
   "metadata": {},
   "source": [
    "### Worst and best acc"
   ]
  },
  {
   "cell_type": "code",
   "execution_count": 34,
   "metadata": {},
   "outputs": [
    {
     "data": {
      "text/plain": [
       "{'acc': 0.1794871794871795,\n",
       " 'precision': 0.1794871794871795,\n",
       " 'recall': 0.1794871794871795,\n",
       " 'f1_score': 0.1794871794871795,\n",
       " 'auc': 0.6237373737373737,\n",
       " 'fpr': array([0.        , 0.03030303, 0.09090909, 0.15151515, 0.3030303 ,\n",
       "        0.48484848, 0.90909091, 1.        ]),\n",
       " 'tpr': array([0.        , 0.        , 0.        , 0.33333333, 0.5       ,\n",
       "        0.66666667, 1.        , 1.        ]),\n",
       " 'cm': array([[0, 0, 3, 0, 3],\n",
       "        [0, 0, 2, 0, 1],\n",
       "        [1, 1, 0, 0, 8],\n",
       "        [0, 0, 2, 0, 3],\n",
       "        [0, 2, 5, 1, 7]], dtype=int64)}"
      ]
     },
     "execution_count": 34,
     "metadata": {},
     "output_type": "execute_result"
    }
   ],
   "source": [
    "all_stats[min_v_acc]"
   ]
  },
  {
   "cell_type": "code",
   "execution_count": 35,
   "metadata": {},
   "outputs": [
    {
     "data": {
      "text/plain": [
       "{'acc': 0.475,\n",
       " 'precision': 0.475,\n",
       " 'recall': 0.475,\n",
       " 'f1_score': 0.47500000000000003,\n",
       " 'auc': 0.3057142857142857,\n",
       " 'fpr': array([0.        , 0.05714286, 0.11428571, 0.14285714, 0.25714286,\n",
       "        0.4       , 0.51428571, 0.8       , 1.        , 1.        ]),\n",
       " 'tpr': array([0. , 0. , 0. , 0. , 0. , 0. , 0.4, 0.6, 0.8, 1. ]),\n",
       " 'cm': array([[ 1,  0,  4,  0,  0],\n",
       "        [ 0,  0,  1,  1,  2],\n",
       "        [ 0,  1,  5,  0,  2],\n",
       "        [ 1,  0,  2,  0,  4],\n",
       "        [ 1,  0,  1,  1, 13]], dtype=int64)}"
      ]
     },
     "execution_count": 35,
     "metadata": {},
     "output_type": "execute_result"
    }
   ],
   "source": [
    "all_stats[max_v_acc]"
   ]
  },
  {
   "attachments": {},
   "cell_type": "markdown",
   "metadata": {},
   "source": [
    "### ROC Mean"
   ]
  },
  {
   "cell_type": "code",
   "execution_count": 38,
   "metadata": {},
   "outputs": [
    {
     "data": {
      "image/png": "[encoded data removed]",
      "text/plain": [
       "<Figure size 432x432 with 1 Axes>"
      ]
     },
     "metadata": {
      "needs_background": "light"
     },
     "output_type": "display_data"
    }
   ],
   "source": [
    "fig, ax = plt.subplots(figsize=(6, 6))\n",
    "ax.plot([0, 1], [0, 1], \"k--\", label=\"chance level (AUC = 0.5)\")\n",
    "\n",
    "mean_tpr = np.mean(tprs, axis=0)\n",
    "mean_tpr[-1] = 1.0\n",
    "mean_auc = metrics.auc(mean_fpr, mean_tpr)\n",
    "std_auc = np.std(aucs)\n",
    "ax.plot(\n",
    "    mean_fpr,\n",
    "    mean_tpr,\n",
    "    color=\"b\",\n",
    "    label=r\"Mean ROC (AUC = %0.2f $\\pm$ %0.2f)\" % (mean_auc, std_auc),\n",
    "    lw=2,\n",
    "    alpha=0.8,\n",
    ")\n",
    "\n",
    "std_tpr = np.std(tprs, axis=0)\n",
    "tprs_upper = np.minimum(mean_tpr + std_tpr, 1)\n",
    "tprs_lower = np.maximum(mean_tpr - std_tpr, 0)\n",
    "ax.fill_between(\n",
    "    mean_fpr,\n",
    "    tprs_lower,\n",
    "    tprs_upper,\n",
    "    color=\"grey\",\n",
    "    alpha=0.2,\n",
    "    label=r\"$\\pm$ 1 std. dev.\",\n",
    ")\n",
    "\n",
    "ax.set(\n",
    "    xlim=[-0.05, 1.05],\n",
    "    ylim=[-0.05, 1.05],\n",
    "    xlabel=\"False Positive Rate\",\n",
    "    ylabel=\"True Positive Rate\",\n",
    "    title=f\"Mean ROC curve with variability\\n(Positive label)\",\n",
    ")\n",
    "ax.axis(\"square\")\n",
    "ax.legend(loc=\"lower right\")\n",
    "plt.show()"
   ]
  },
  {
   "attachments": {},
   "cell_type": "markdown",
   "metadata": {},
   "source": [
    "### Confusion Matrix for worst and best"
   ]
  },
  {
   "cell_type": "code",
   "execution_count": 39,
   "metadata": {},
   "outputs": [
    {
     "data": {
      "image/png": "[encoded data removed]",
      "text/plain": [
       "<Figure size 432x288 with 2 Axes>"
      ]
     },
     "metadata": {
      "needs_background": "light"
     },
     "output_type": "display_data"
    }
   ],
   "source": [
    "pcm = metrics.ConfusionMatrixDisplay(confusion_matrix=all_stats[min_v_acc][\"cm\"])\n",
    "pcm.plot()\n",
    "plt.show()"
   ]
  },
  {
   "cell_type": "code",
   "execution_count": 40,
   "metadata": {},
   "outputs": [
    {
     "data": {
      "image/png": "[encoded data removed]",
      "text/plain": [
       "<Figure size 432x288 with 2 Axes>"
      ]
     },
     "metadata": {
      "needs_background": "light"
     },
     "output_type": "display_data"
    }
   ],
   "source": [
    "pcm = metrics.ConfusionMatrixDisplay(confusion_matrix=all_stats[max_v_acc][\"cm\"])\n",
    "pcm.plot()\n",
    "plt.show()"
   ]
  },
  {
   "attachments": {},
   "cell_type": "markdown",
   "metadata": {},
   "source": [
    "### Compare with classic RandomForest"
   ]
  },
  {
   "cell_type": "code",
   "execution_count": 5,
   "metadata": {},
   "outputs": [],
   "source": [
    "from sklearn.preprocessing import OneHotEncoder\n",
    "from sklearn.ensemble import RandomForestClassifier\n",
    "\n",
    "ohe = OneHotEncoder()\n",
    "all_stats = []\n",
    "\n",
    "data = np.genfromtxt(fname=\"example_data/student-alcohol_uma.csv\", delimiter=\";\", dtype=str)\n",
    "X = ohe.fit_transform(data[:,:30])\n",
    "y = np.array(data[:,30:]).ravel()\n",
    "\n",
    "for _ in range(5):\n",
    "    cv = KFold(n_splits=10, shuffle=True)\n",
    "    for train_ix, test_ix in cv.split(X):\n",
    "        X_train, X_test = X[train_ix], X[test_ix]\n",
    "        y_train, y_test = y[train_ix], y[test_ix]\n",
    "\n",
    "        rf=RandomForestClassifier(n_estimators=100)\n",
    "        rf.fit(X_train,y_train)\n",
    "\n",
    "\n",
    "        results=rf.predict(X_test)\n",
    "\n",
    "        test_y = y_test\n",
    "\n",
    "\n",
    "        stats = {}\n",
    "        stats[\"acc\"] = metrics.accuracy_score(test_y, results)\n",
    "        stats[\"precision\"] = metrics.precision_score(test_y, results, average='micro')\n",
    "        stats[\"recall\"] = metrics.recall_score(test_y, results, average='micro')\n",
    "        stats[\"f1_score\"] = metrics.f1_score(test_y, results, average='micro')\n",
    "        stats[\"cm\"] = metrics.confusion_matrix(test_y,results)\n",
    "\n",
    "        all_stats.append(stats)"
   ]
  },
  {
   "cell_type": "code",
   "execution_count": 6,
   "metadata": {},
   "outputs": [],
   "source": [
    "def stats(dict_list, key):\n",
    "    list = [el[key] for el in dict_list]\n",
    "    np_list = np.array(list)\n",
    "    return np.mean(np_list), np.std(np_list)\n",
    "\n",
    "def get_min_and_max(dict_list, key):\n",
    "    list = [el[key] for el in dict_list]\n",
    "    return list.index(min(list)), list.index(max(list))"
   ]
  },
  {
   "cell_type": "code",
   "execution_count": 7,
   "metadata": {},
   "outputs": [
    {
     "data": {
      "text/plain": [
       "(0.3523461538461538, 0.06504785195569465)"
      ]
     },
     "execution_count": 7,
     "metadata": {},
     "output_type": "execute_result"
    }
   ],
   "source": [
    "stats(all_stats, \"acc\")"
   ]
  },
  {
   "cell_type": "code",
   "execution_count": 8,
   "metadata": {},
   "outputs": [
    {
     "data": {
      "text/plain": [
       "(0.3523461538461538, 0.06504785195569465)"
      ]
     },
     "execution_count": 8,
     "metadata": {},
     "output_type": "execute_result"
    }
   ],
   "source": [
    "stats(all_stats, \"precision\")"
   ]
  },
  {
   "cell_type": "code",
   "execution_count": 9,
   "metadata": {},
   "outputs": [
    {
     "data": {
      "text/plain": [
       "(0.3523461538461538, 0.06504785195569465)"
      ]
     },
     "execution_count": 9,
     "metadata": {},
     "output_type": "execute_result"
    }
   ],
   "source": [
    "stats(all_stats, \"recall\")"
   ]
  },
  {
   "cell_type": "code",
   "execution_count": 10,
   "metadata": {},
   "outputs": [
    {
     "data": {
      "text/plain": [
       "(0.3523461538461538, 0.06504785195569465)"
      ]
     },
     "execution_count": 10,
     "metadata": {},
     "output_type": "execute_result"
    }
   ],
   "source": [
    "stats(all_stats, \"f1_score\")"
   ]
  },
  {
   "cell_type": "code",
   "execution_count": 11,
   "metadata": {},
   "outputs": [],
   "source": [
    "min_v_acc, max_v_acc = get_min_and_max(all_stats, \"acc\")"
   ]
  },
  {
   "cell_type": "code",
   "execution_count": 12,
   "metadata": {},
   "outputs": [
    {
     "data": {
      "text/plain": [
       "{'acc': 0.175,\n",
       " 'precision': 0.175,\n",
       " 'recall': 0.175,\n",
       " 'f1_score': 0.175,\n",
       " 'cm': array([[0, 0, 0, 0, 3],\n",
       "        [0, 0, 2, 0, 4],\n",
       "        [1, 0, 1, 0, 8],\n",
       "        [0, 0, 2, 0, 8],\n",
       "        [0, 1, 3, 1, 6]], dtype=int64)}"
      ]
     },
     "execution_count": 12,
     "metadata": {},
     "output_type": "execute_result"
    }
   ],
   "source": [
    "all_stats[min_v_acc]"
   ]
  },
  {
   "cell_type": "code",
   "execution_count": 13,
   "metadata": {},
   "outputs": [
    {
     "data": {
      "text/plain": [
       "{'acc': 0.46153846153846156,\n",
       " 'precision': 0.46153846153846156,\n",
       " 'recall': 0.46153846153846156,\n",
       " 'f1_score': 0.46153846153846156,\n",
       " 'cm': array([[ 1,  0,  2,  0,  1],\n",
       "        [ 0,  0,  1,  3,  1],\n",
       "        [ 0,  1,  1,  0,  4],\n",
       "        [ 0,  0,  0,  1,  4],\n",
       "        [ 0,  0,  3,  1, 15]], dtype=int64)}"
      ]
     },
     "execution_count": 13,
     "metadata": {},
     "output_type": "execute_result"
    }
   ],
   "source": [
    "all_stats[max_v_acc]"
   ]
  },
  {
   "cell_type": "code",
   "execution_count": 14,
   "metadata": {},
   "outputs": [
    {
     "data": {
      "image/png": "[encoded data removed]",
      "text/plain": [
       "<Figure size 432x288 with 2 Axes>"
      ]
     },
     "metadata": {
      "needs_background": "light"
     },
     "output_type": "display_data"
    }
   ],
   "source": [
    "pcm = metrics.ConfusionMatrixDisplay(confusion_matrix=all_stats[min_v_acc][\"cm\"])\n",
    "pcm.plot()\n",
    "plt.show()"
   ]
  },
  {
   "cell_type": "code",
   "execution_count": 15,
   "metadata": {},
   "outputs": [
    {
     "data": {
      "image/png": "[encoded data removed]",
      "text/plain": [
       "<Figure size 432x288 with 2 Axes>"
      ]
     },
     "metadata": {
      "needs_background": "light"
     },
     "output_type": "display_data"
    }
   ],
   "source": [
    "pcm = metrics.ConfusionMatrixDisplay(confusion_matrix=all_stats[max_v_acc][\"cm\"])\n",
    "pcm.plot()\n",
    "plt.show()"
   ]
  }
 ],
 "metadata": {
  "kernelspec": {
   "display_name": "Python 3",
   "language": "python",
   "name": "python3"
  },
  "language_info": {
   "codemirror_mode": {
    "name": "ipython",
    "version": 3
   },
   "file_extension": ".py",
   "mimetype": "text/x-python",
   "name": "python",
   "nbconvert_exporter": "python",
   "pygments_lexer": "ipython3",
   "version": "3.9.6 (tags/v3.9.6:db3ff76, Jun 28 2021, 15:26:21) [MSC v.1929 64 bit (AMD64)]"
  },
  "orig_nbformat": 4,
  "vscode": {
   "interpreter": {
    "hash": "48e016adc810f44ce10940e5316478a3a207f276705c01f8d308ed6cbd5d8765"
   }
  }
 },
 "nbformat": 4,
 "nbformat_minor": 2
}
