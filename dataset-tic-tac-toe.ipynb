{
 "cells": [
  {
   "attachments": {},
   "cell_type": "markdown",
   "metadata": {},
   "source": [
    "# RandomForest but with Rule (AQ algorithm)\n",
    "\n",
    "Sample datasets are in the `example_data` folder\n",
    "\n",
    "## Dataset: `tic-tac-toe-uma.csv`"
   ]
  },
  {
   "attachments": {},
   "cell_type": "markdown",
   "metadata": {},
   "source": [
    "### Loading the needed libraries"
   ]
  },
  {
   "cell_type": "code",
   "execution_count": null,
   "metadata": {},
   "outputs": [],
   "source": [
    "import sys\n",
    "!{sys.executable} -m pip install -r requirements.txt"
   ]
  },
  {
   "cell_type": "code",
   "execution_count": 1,
   "metadata": {},
   "outputs": [],
   "source": [
    "import numpy as np\n",
    "from core.forest import Forest\n",
    "from sklearn.model_selection import KFold\n",
    "from sklearn import metrics\n",
    "import matplotlib.pyplot as plt\n",
    "from tqdm import tqdm"
   ]
  },
  {
   "attachments": {},
   "cell_type": "markdown",
   "metadata": {},
   "source": [
    "### Training and testing"
   ]
  },
  {
   "cell_type": "code",
   "execution_count": null,
   "metadata": {},
   "outputs": [],
   "source": [
    "all_stats = []\n",
    "\n",
    "mean_fpr = np.linspace(0, 1, 100)\n",
    "tprs = []\n",
    "aucs = []\n",
    "\n",
    "data = np.genfromtxt(fname=\"example_data/tic-tac-toe-uma.csv\", delimiter=\";\", dtype=str)\n",
    "X, y = data[:,:9], data[:,9:]\n",
    "\n",
    "for _ in range(5):\n",
    "    cv = KFold(n_splits=10, shuffle=True)\n",
    "    for train_ix, test_ix in cv.split(X):\n",
    "        X_train, X_test = X[train_ix], X[test_ix]\n",
    "        y_train, y_test = y[train_ix], y[test_ix]\n",
    "\n",
    "        forest = Forest(n_tree=100, train_x=X_train, train_y=y_train)\n",
    "        score = []\n",
    "        results = []\n",
    "        print(\"Testing...\")\n",
    "        for test_x in tqdm(X_test):\n",
    "            result, prec = forest.predict(test_x)\n",
    "            results.append(result.tolist())\n",
    "            score.append(prec)\n",
    "\n",
    "        test_y = y_test\n",
    "\n",
    "        fpr, tpr, _ = metrics.roc_curve(test_y, score, pos_label=['positive'])\n",
    "\n",
    "        stats = {}\n",
    "        stats[\"acc\"] = metrics.accuracy_score(test_y, results)\n",
    "        stats[\"precision\"] = metrics.precision_score(test_y, results, labels=['positive'], average='micro')\n",
    "        stats[\"recall\"] = metrics.recall_score(test_y, results, labels=['positive'], average='micro')\n",
    "        stats[\"f1_score\"] = metrics.f1_score(test_y, results, labels=['positive'], average='micro')\n",
    "        stats[\"auc\"] = metrics.auc(fpr, tpr)\n",
    "        stats[\"fpr\"] = fpr\n",
    "        stats[\"tpr\"] = tpr\n",
    "        stats[\"cm\"] = metrics.confusion_matrix(test_y,results)\n",
    "\n",
    "\n",
    "        interp_tpr = np.interp(mean_fpr, stats[\"fpr\"], stats[\"tpr\"])\n",
    "        interp_tpr[0] = 0.0\n",
    "        tprs.append(interp_tpr)\n",
    "        aucs.append(stats[\"auc\"])\n",
    "\n",
    "        all_stats.append(stats)"
   ]
  },
  {
   "cell_type": "code",
   "execution_count": 4,
   "metadata": {},
   "outputs": [],
   "source": [
    "def stats(dict_list, key):\n",
    "    list = [el[key] for el in dict_list]\n",
    "    np_list = np.array(list)\n",
    "    return np.mean(np_list), np.std(np_list)\n",
    "\n",
    "def get_min_and_max(dict_list, key):\n",
    "    list = [el[key] for el in dict_list]\n",
    "    return list.index(min(list)), list.index(max(list))\n"
   ]
  },
  {
   "attachments": {},
   "cell_type": "markdown",
   "metadata": {},
   "source": [
    "### Result"
   ]
  },
  {
   "cell_type": "code",
   "execution_count": 5,
   "metadata": {},
   "outputs": [
    {
     "data": {
      "text/plain": [
       "(0.9893464912280702, 0.009454205527409968)"
      ]
     },
     "execution_count": 5,
     "metadata": {},
     "output_type": "execute_result"
    }
   ],
   "source": [
    "#mean and std for acc\n",
    "stats(all_stats, \"acc\")"
   ]
  },
  {
   "cell_type": "code",
   "execution_count": 6,
   "metadata": {},
   "outputs": [
    {
     "data": {
      "text/plain": [
       "(0.9852325887569106, 0.013865957883739573)"
      ]
     },
     "execution_count": 6,
     "metadata": {},
     "output_type": "execute_result"
    }
   ],
   "source": [
    "#mean and std for precision\n",
    "stats(all_stats, \"precision\")"
   ]
  },
  {
   "cell_type": "code",
   "execution_count": 7,
   "metadata": {},
   "outputs": [
    {
     "data": {
      "text/plain": [
       "(0.9983267382702091, 0.00832799501748343)"
      ]
     },
     "execution_count": 7,
     "metadata": {},
     "output_type": "execute_result"
    }
   ],
   "source": [
    "#mean and std for precision\n",
    "stats(all_stats, \"recall\")"
   ]
  },
  {
   "cell_type": "code",
   "execution_count": 8,
   "metadata": {},
   "outputs": [
    {
     "data": {
      "text/plain": [
       "(0.9916569871663053, 0.007427043871795441)"
      ]
     },
     "execution_count": 8,
     "metadata": {},
     "output_type": "execute_result"
    }
   ],
   "source": [
    "#mean and std for f1_score\n",
    "stats(all_stats, \"f1_score\")"
   ]
  },
  {
   "cell_type": "code",
   "execution_count": 9,
   "metadata": {},
   "outputs": [],
   "source": [
    "#worst and best index by acc and auc\n",
    "min_v_acc, max_v_acc = get_min_and_max(all_stats, \"acc\")\n",
    "min_v_auc, max_v_auc = get_min_and_max(all_stats, \"auc\")"
   ]
  },
  {
   "attachments": {},
   "cell_type": "markdown",
   "metadata": {},
   "source": [
    "### Worst and best acc"
   ]
  },
  {
   "cell_type": "code",
   "execution_count": 10,
   "metadata": {},
   "outputs": [
    {
     "data": {
      "text/plain": [
       "{'acc': 0.968421052631579,\n",
       " 'precision': 0.9558823529411765,\n",
       " 'recall': 1.0,\n",
       " 'f1_score': 0.9774436090225563,\n",
       " 'auc': 0.6830769230769231,\n",
       " 'fpr': array([0.        , 0.        , 0.        , 0.06666667, 0.1       ,\n",
       "        0.1       , 0.13333333, 0.16666667, 0.33333333, 0.36666667,\n",
       "        0.4       , 0.46666667, 0.53333333, 0.56666667, 0.6       ,\n",
       "        0.66666667, 0.7       , 0.7       , 0.7       , 0.73333333,\n",
       "        0.73333333, 0.73333333, 0.73333333, 0.83333333, 0.83333333,\n",
       "        0.86666667, 0.93333333, 1.        , 1.        ]),\n",
       " 'tpr': array([0.        , 0.16923077, 0.24615385, 0.38461538, 0.43076923,\n",
       "        0.49230769, 0.52307692, 0.53846154, 0.56923077, 0.61538462,\n",
       "        0.63076923, 0.66153846, 0.66153846, 0.66153846, 0.69230769,\n",
       "        0.72307692, 0.73846154, 0.78461538, 0.8       , 0.84615385,\n",
       "        0.86153846, 0.89230769, 0.92307692, 0.92307692, 0.93846154,\n",
       "        0.93846154, 0.95384615, 0.95384615, 1.        ]),\n",
       " 'cm': array([[27,  3],\n",
       "        [ 0, 65]], dtype=int64)}"
      ]
     },
     "execution_count": 10,
     "metadata": {},
     "output_type": "execute_result"
    }
   ],
   "source": [
    "all_stats[min_v_acc]"
   ]
  },
  {
   "cell_type": "code",
   "execution_count": 11,
   "metadata": {},
   "outputs": [
    {
     "data": {
      "text/plain": [
       "{'acc': 1.0,\n",
       " 'precision': 1.0,\n",
       " 'recall': 1.0,\n",
       " 'f1_score': 1.0,\n",
       " 'auc': 0.7274667931688804,\n",
       " 'fpr': array([0.        , 0.02941176, 0.02941176, 0.02941176, 0.02941176,\n",
       "        0.14705882, 0.20588235, 0.23529412, 0.29411765, 0.52941176,\n",
       "        0.58823529, 0.58823529, 0.58823529, 0.58823529, 0.58823529,\n",
       "        0.64705882, 0.64705882, 0.67647059, 0.73529412, 0.73529412,\n",
       "        0.85294118, 0.88235294, 0.88235294, 0.88235294, 0.91176471,\n",
       "        0.91176471, 0.97058824, 0.97058824, 1.        ]),\n",
       " 'tpr': array([0.        , 0.11290323, 0.27419355, 0.46774194, 0.51612903,\n",
       "        0.5483871 , 0.62903226, 0.67741935, 0.67741935, 0.67741935,\n",
       "        0.69354839, 0.70967742, 0.74193548, 0.75806452, 0.80645161,\n",
       "        0.80645161, 0.82258065, 0.87096774, 0.87096774, 0.88709677,\n",
       "        0.88709677, 0.88709677, 0.9516129 , 0.96774194, 0.96774194,\n",
       "        0.98387097, 0.98387097, 1.        , 1.        ]),\n",
       " 'cm': array([[34,  0],\n",
       "        [ 0, 62]], dtype=int64)}"
      ]
     },
     "execution_count": 11,
     "metadata": {},
     "output_type": "execute_result"
    }
   ],
   "source": [
    "all_stats[max_v_acc]"
   ]
  },
  {
   "attachments": {},
   "cell_type": "markdown",
   "metadata": {},
   "source": [
    "### Worst and best auc"
   ]
  },
  {
   "cell_type": "code",
   "execution_count": 12,
   "metadata": {},
   "outputs": [
    {
     "data": {
      "text/plain": [
       "{'acc': 0.9791666666666666,\n",
       " 'precision': 0.967741935483871,\n",
       " 'recall': 1.0,\n",
       " 'f1_score': 0.9836065573770492,\n",
       " 'auc': 0.6148148148148148,\n",
       " 'fpr': array([0.        , 0.        , 0.        , 0.02777778, 0.02777778,\n",
       "        0.08333333, 0.16666667, 0.19444444, 0.25      , 0.36111111,\n",
       "        0.38888889, 0.5       , 0.52777778, 0.61111111, 0.66666667,\n",
       "        0.69444444, 0.69444444, 0.80555556, 0.83333333, 0.86111111,\n",
       "        0.86111111, 0.86111111, 0.86111111, 0.86111111, 0.86111111,\n",
       "        0.86111111, 0.86111111, 0.91666667, 1.        ]),\n",
       " 'tpr': array([0.        , 0.18333333, 0.23333333, 0.31666667, 0.4       ,\n",
       "        0.43333333, 0.48333333, 0.51666667, 0.53333333, 0.56666667,\n",
       "        0.56666667, 0.56666667, 0.56666667, 0.58333333, 0.6       ,\n",
       "        0.6       , 0.66666667, 0.66666667, 0.68333333, 0.68333333,\n",
       "        0.7       , 0.73333333, 0.78333333, 0.8       , 0.88333333,\n",
       "        0.91666667, 0.96666667, 1.        , 1.        ]),\n",
       " 'cm': array([[34,  2],\n",
       "        [ 0, 60]], dtype=int64)}"
      ]
     },
     "execution_count": 12,
     "metadata": {},
     "output_type": "execute_result"
    }
   ],
   "source": [
    "all_stats[min_v_auc]"
   ]
  },
  {
   "cell_type": "code",
   "execution_count": 13,
   "metadata": {},
   "outputs": [
    {
     "data": {
      "text/plain": [
       "{'acc': 0.9789473684210527,\n",
       " 'precision': 0.967741935483871,\n",
       " 'recall': 1.0,\n",
       " 'f1_score': 0.9836065573770492,\n",
       " 'auc': 0.8459523809523809,\n",
       " 'fpr': array([0.        , 0.        , 0.        , 0.05714286, 0.05714286,\n",
       "        0.05714286, 0.08571429, 0.11428571, 0.17142857, 0.22857143,\n",
       "        0.28571429, 0.31428571, 0.34285714, 0.37142857, 0.42857143,\n",
       "        0.45714286, 0.45714286, 0.48571429, 0.51428571, 0.57142857,\n",
       "        0.62857143, 0.65714286, 0.71428571, 0.74285714, 0.8       ,\n",
       "        0.82857143, 0.85714286, 0.88571429, 1.        ]),\n",
       " 'tpr': array([0.        , 0.18333333, 0.3       , 0.41666667, 0.51666667,\n",
       "        0.65      , 0.66666667, 0.71666667, 0.76666667, 0.78333333,\n",
       "        0.78333333, 0.78333333, 0.8       , 0.8       , 0.8       ,\n",
       "        0.81666667, 0.86666667, 0.86666667, 0.9       , 0.93333333,\n",
       "        0.95      , 0.95      , 0.95      , 0.96666667, 0.96666667,\n",
       "        0.98333333, 0.98333333, 1.        , 1.        ]),\n",
       " 'cm': array([[33,  2],\n",
       "        [ 0, 60]], dtype=int64)}"
      ]
     },
     "execution_count": 13,
     "metadata": {},
     "output_type": "execute_result"
    }
   ],
   "source": [
    "all_stats[max_v_auc]"
   ]
  },
  {
   "attachments": {},
   "cell_type": "markdown",
   "metadata": {},
   "source": [
    "### ROC curve for worst and best result"
   ]
  },
  {
   "attachments": {},
   "cell_type": "markdown",
   "metadata": {},
   "source": [
    "### ACC"
   ]
  },
  {
   "cell_type": "code",
   "execution_count": 21,
   "metadata": {},
   "outputs": [
    {
     "data": {
      "text/plain": [
       "<matplotlib.legend.Legend at 0x23012fcac10>"
      ]
     },
     "execution_count": 21,
     "metadata": {},
     "output_type": "execute_result"
    },
    {
     "data": {
      "text/plain": [
       "<Figure size 432x288 with 0 Axes>"
      ]
     },
     "metadata": {},
     "output_type": "display_data"
    },
    {
     "data": {
      "image/png": "[encoded data removed]",
      "text/plain": [
       "<Figure size 432x432 with 1 Axes>"
      ]
     },
     "metadata": {
      "needs_background": "light"
     },
     "output_type": "display_data"
    }
   ],
   "source": [
    "plt.figure()\n",
    "plt.subplots(figsize=(6, 6))\n",
    "plt.plot(all_stats[min_v_acc][\"fpr\"], all_stats[min_v_acc][\"tpr\"], lw=2)\n",
    "plt.plot([0, 1], \n",
    "         [0, 1], \n",
    "         color=\"navy\", \n",
    "         lw=2, \n",
    "         linestyle=\"--\",\n",
    "         label=\"ROC curve (area = %0.3f)\" % all_stats[min_v_acc][\"auc\"])\n",
    "plt.xlim([0.0, 1.0])\n",
    "plt.ylim([0.0, 1.05])\n",
    "plt.xlabel(\"False Positive Rate\")\n",
    "plt.ylabel(\"True Positive Rate\")\n",
    "plt.title(\"ROC Curve\")\n",
    "plt.legend(loc=\"lower right\")"
   ]
  },
  {
   "cell_type": "code",
   "execution_count": 22,
   "metadata": {},
   "outputs": [
    {
     "data": {
      "text/plain": [
       "<matplotlib.legend.Legend at 0x230151de820>"
      ]
     },
     "execution_count": 22,
     "metadata": {},
     "output_type": "execute_result"
    },
    {
     "data": {
      "text/plain": [
       "<Figure size 432x288 with 0 Axes>"
      ]
     },
     "metadata": {},
     "output_type": "display_data"
    },
    {
     "data": {
      "image/png": "[encoded data removed]",
      "text/plain": [
       "<Figure size 432x432 with 1 Axes>"
      ]
     },
     "metadata": {
      "needs_background": "light"
     },
     "output_type": "display_data"
    }
   ],
   "source": [
    "plt.figure()\n",
    "plt.subplots(figsize=(6, 6))\n",
    "plt.plot(all_stats[max_v_acc][\"fpr\"], all_stats[max_v_acc][\"tpr\"], lw=2)\n",
    "plt.plot([0, 1], \n",
    "         [0, 1], \n",
    "         color=\"navy\", \n",
    "         lw=2, \n",
    "         linestyle=\"--\",\n",
    "         label=\"ROC curve (area = %0.3f)\" % all_stats[max_v_acc][\"auc\"])\n",
    "plt.xlim([0.0, 1.0])\n",
    "plt.ylim([0.0, 1.05])\n",
    "plt.xlabel(\"False Positive Rate\")\n",
    "plt.ylabel(\"True Positive Rate\")\n",
    "plt.title(\"ROC Curve\")\n",
    "plt.legend(loc=\"lower right\")"
   ]
  },
  {
   "attachments": {},
   "cell_type": "markdown",
   "metadata": {},
   "source": [
    "### AUC"
   ]
  },
  {
   "cell_type": "code",
   "execution_count": 23,
   "metadata": {},
   "outputs": [
    {
     "data": {
      "text/plain": [
       "<matplotlib.legend.Legend at 0x2301624b9d0>"
      ]
     },
     "execution_count": 23,
     "metadata": {},
     "output_type": "execute_result"
    },
    {
     "data": {
      "text/plain": [
       "<Figure size 432x288 with 0 Axes>"
      ]
     },
     "metadata": {},
     "output_type": "display_data"
    },
    {
     "data": {
      "image/png": "[encoded data removed]",
      "text/plain": [
       "<Figure size 432x432 with 1 Axes>"
      ]
     },
     "metadata": {
      "needs_background": "light"
     },
     "output_type": "display_data"
    }
   ],
   "source": [
    "plt.figure()\n",
    "plt.subplots(figsize=(6, 6))\n",
    "plt.plot(all_stats[min_v_auc][\"fpr\"], all_stats[min_v_auc][\"tpr\"], lw=2)\n",
    "plt.plot([0, 1], \n",
    "         [0, 1], \n",
    "         color=\"navy\", \n",
    "         lw=2, \n",
    "         linestyle=\"--\",\n",
    "         label=\"ROC curve (area = %0.3f)\" % all_stats[min_v_auc][\"auc\"])\n",
    "plt.xlim([0.0, 1.0])\n",
    "plt.ylim([0.0, 1.05])\n",
    "plt.xlabel(\"False Positive Rate\")\n",
    "plt.ylabel(\"True Positive Rate\")\n",
    "plt.title(\"ROC Curve\")\n",
    "plt.legend(loc=\"lower right\")"
   ]
  },
  {
   "cell_type": "code",
   "execution_count": 17,
   "metadata": {},
   "outputs": [
    {
     "data": {
      "text/plain": [
       "<matplotlib.legend.Legend at 0x23012f87a00>"
      ]
     },
     "execution_count": 17,
     "metadata": {},
     "output_type": "execute_result"
    },
    {
     "data": {
      "text/plain": [
       "<Figure size 432x288 with 0 Axes>"
      ]
     },
     "metadata": {},
     "output_type": "display_data"
    },
    {
     "data": {
      "image/png": "[encoded data removed]",
      "text/plain": [
       "<Figure size 432x432 with 1 Axes>"
      ]
     },
     "metadata": {
      "needs_background": "light"
     },
     "output_type": "display_data"
    }
   ],
   "source": [
    "plt.figure()\n",
    "plt.subplots(figsize=(6, 6))\n",
    "plt.plot(all_stats[max_v_auc][\"fpr\"], all_stats[max_v_auc][\"tpr\"], lw=2)\n",
    "plt.plot([0, 1], \n",
    "         [0, 1], \n",
    "         color=\"navy\", \n",
    "         lw=2, \n",
    "         linestyle=\"--\",\n",
    "         label=\"ROC curve (area = %0.3f)\" % all_stats[max_v_auc][\"auc\"])\n",
    "plt.xlim([0.0, 1.0])\n",
    "plt.ylim([0.0, 1.05])\n",
    "plt.xlabel(\"False Positive Rate\")\n",
    "plt.ylabel(\"True Positive Rate\")\n",
    "plt.title(\"ROC Curve\")\n",
    "plt.legend(loc=\"lower right\")"
   ]
  },
  {
   "attachments": {},
   "cell_type": "markdown",
   "metadata": {},
   "source": [
    "### Mean"
   ]
  },
  {
   "cell_type": "code",
   "execution_count": 24,
   "metadata": {},
   "outputs": [
    {
     "data": {
      "image/png": "[encoded data removed]",
      "text/plain": [
       "<Figure size 432x432 with 1 Axes>"
      ]
     },
     "metadata": {
      "needs_background": "light"
     },
     "output_type": "display_data"
    }
   ],
   "source": [
    "fig, ax = plt.subplots(figsize=(6, 6))\n",
    "ax.plot([0, 1], [0, 1], \"k--\", label=\"chance level (AUC = 0.5)\")\n",
    "\n",
    "mean_tpr = np.mean(tprs, axis=0)\n",
    "mean_tpr[-1] = 1.0\n",
    "mean_auc = metrics.auc(mean_fpr, mean_tpr)\n",
    "std_auc = np.std(aucs)\n",
    "ax.plot(\n",
    "    mean_fpr,\n",
    "    mean_tpr,\n",
    "    color=\"b\",\n",
    "    label=r\"Mean ROC (AUC = %0.2f $\\pm$ %0.2f)\" % (mean_auc, std_auc),\n",
    "    lw=2,\n",
    "    alpha=0.8,\n",
    ")\n",
    "\n",
    "std_tpr = np.std(tprs, axis=0)\n",
    "tprs_upper = np.minimum(mean_tpr + std_tpr, 1)\n",
    "tprs_lower = np.maximum(mean_tpr - std_tpr, 0)\n",
    "ax.fill_between(\n",
    "    mean_fpr,\n",
    "    tprs_lower,\n",
    "    tprs_upper,\n",
    "    color=\"grey\",\n",
    "    alpha=0.2,\n",
    "    label=r\"$\\pm$ 1 std. dev.\",\n",
    ")\n",
    "\n",
    "ax.set(\n",
    "    xlim=[-0.05, 1.05],\n",
    "    ylim=[-0.05, 1.05],\n",
    "    xlabel=\"False Positive Rate\",\n",
    "    ylabel=\"True Positive Rate\",\n",
    "    title=f\"Mean ROC curve with variability\\n(Positive label)\",\n",
    ")\n",
    "ax.axis(\"square\")\n",
    "ax.legend(loc=\"lower right\")\n",
    "plt.show()"
   ]
  },
  {
   "attachments": {},
   "cell_type": "markdown",
   "metadata": {},
   "source": [
    "### Confusion Matrix for worst and best"
   ]
  },
  {
   "cell_type": "code",
   "execution_count": 25,
   "metadata": {},
   "outputs": [
    {
     "data": {
      "image/png": "[encoded data removed]",
      "text/plain": [
       "<Figure size 432x288 with 2 Axes>"
      ]
     },
     "metadata": {
      "needs_background": "light"
     },
     "output_type": "display_data"
    }
   ],
   "source": [
    "pcm = metrics.ConfusionMatrixDisplay(confusion_matrix=all_stats[min_v_acc][\"cm\"])\n",
    "pcm.plot()\n",
    "plt.show()"
   ]
  },
  {
   "cell_type": "code",
   "execution_count": 26,
   "metadata": {},
   "outputs": [
    {
     "data": {
      "image/png": "[encoded data removed]",
      "text/plain": [
       "<Figure size 432x288 with 2 Axes>"
      ]
     },
     "metadata": {
      "needs_background": "light"
     },
     "output_type": "display_data"
    }
   ],
   "source": [
    "pcm = metrics.ConfusionMatrixDisplay(confusion_matrix=all_stats[max_v_acc][\"cm\"])\n",
    "pcm.plot()\n",
    "plt.show()"
   ]
  },
  {
   "attachments": {},
   "cell_type": "markdown",
   "metadata": {},
   "source": [
    "### Compare with classic RandomForest"
   ]
  },
  {
   "cell_type": "code",
   "execution_count": 27,
   "metadata": {},
   "outputs": [],
   "source": [
    "from sklearn.preprocessing import OneHotEncoder\n",
    "from sklearn.ensemble import RandomForestClassifier\n",
    "\n",
    "ohe = OneHotEncoder()\n",
    "all_stats = []\n",
    "\n",
    "X = ohe.fit_transform(data[:,:9])\n",
    "y = np.array([1 if x == \"positive\" else 0 for x in data[:,9:]])\n",
    "\n",
    "for _ in range(5):\n",
    "    cv = KFold(n_splits=10, shuffle=True)\n",
    "    for train_ix, test_ix in cv.split(X):\n",
    "        X_train, X_test = X[train_ix], X[test_ix]\n",
    "        y_train, y_test = y[train_ix], y[test_ix]\n",
    "\n",
    "        rf=RandomForestClassifier(n_estimators=100)\n",
    "        rf.fit(X_train,y_train)\n",
    "\n",
    "\n",
    "        results=rf.predict(X_test)\n",
    "\n",
    "        test_y = y_test\n",
    "\n",
    "\n",
    "        stats = {}\n",
    "        stats[\"acc\"] = metrics.accuracy_score(test_y, results)\n",
    "        stats[\"precision\"] = metrics.precision_score(test_y, results, average='micro')\n",
    "        stats[\"recall\"] = metrics.recall_score(test_y, results, average='micro')\n",
    "        stats[\"f1_score\"] = metrics.f1_score(test_y, results, average='micro')\n",
    "        stats[\"cm\"] = metrics.confusion_matrix(test_y,results)\n",
    "\n",
    "        all_stats.append(stats)"
   ]
  },
  {
   "cell_type": "code",
   "execution_count": 28,
   "metadata": {},
   "outputs": [],
   "source": [
    "def stats(dict_list, key):\n",
    "    list = [el[key] for el in dict_list]\n",
    "    np_list = np.array(list)\n",
    "    return np.mean(np_list), np.std(np_list)\n",
    "\n",
    "def get_min_and_max(dict_list, key):\n",
    "    list = [el[key] for el in dict_list]\n",
    "    return list.index(min(list)), list.index(max(list))"
   ]
  },
  {
   "cell_type": "code",
   "execution_count": 29,
   "metadata": {},
   "outputs": [
    {
     "data": {
      "text/plain": [
       "(0.9883114035087718, 0.010763255300607299)"
      ]
     },
     "execution_count": 29,
     "metadata": {},
     "output_type": "execute_result"
    }
   ],
   "source": [
    "stats(all_stats, \"acc\")"
   ]
  },
  {
   "cell_type": "code",
   "execution_count": 30,
   "metadata": {},
   "outputs": [
    {
     "data": {
      "text/plain": [
       "(0.9883114035087718, 0.010763255300607299)"
      ]
     },
     "execution_count": 30,
     "metadata": {},
     "output_type": "execute_result"
    }
   ],
   "source": [
    "stats(all_stats, \"precision\")"
   ]
  },
  {
   "cell_type": "code",
   "execution_count": 31,
   "metadata": {},
   "outputs": [
    {
     "data": {
      "text/plain": [
       "(0.9883114035087718, 0.010763255300607299)"
      ]
     },
     "execution_count": 31,
     "metadata": {},
     "output_type": "execute_result"
    }
   ],
   "source": [
    "stats(all_stats, \"recall\")"
   ]
  },
  {
   "cell_type": "code",
   "execution_count": 32,
   "metadata": {},
   "outputs": [
    {
     "data": {
      "text/plain": [
       "(0.9883114035087718, 0.010763255300607299)"
      ]
     },
     "execution_count": 32,
     "metadata": {},
     "output_type": "execute_result"
    }
   ],
   "source": [
    "stats(all_stats, \"f1_score\")"
   ]
  },
  {
   "cell_type": "code",
   "execution_count": 33,
   "metadata": {},
   "outputs": [],
   "source": [
    "min_v_acc, max_v_acc = get_min_and_max(all_stats, \"acc\")"
   ]
  },
  {
   "cell_type": "code",
   "execution_count": 34,
   "metadata": {},
   "outputs": [
    {
     "data": {
      "text/plain": [
       "{'acc': 0.9583333333333334,\n",
       " 'precision': 0.9583333333333334,\n",
       " 'recall': 0.9583333333333334,\n",
       " 'f1_score': 0.9583333333333334,\n",
       " 'cm': array([[34,  4],\n",
       "        [ 0, 58]], dtype=int64)}"
      ]
     },
     "execution_count": 34,
     "metadata": {},
     "output_type": "execute_result"
    }
   ],
   "source": [
    "all_stats[min_v_acc]"
   ]
  },
  {
   "cell_type": "code",
   "execution_count": 35,
   "metadata": {},
   "outputs": [
    {
     "data": {
      "text/plain": [
       "{'acc': 1.0,\n",
       " 'precision': 1.0,\n",
       " 'recall': 1.0,\n",
       " 'f1_score': 1.0,\n",
       " 'cm': array([[31,  0],\n",
       "        [ 0, 65]], dtype=int64)}"
      ]
     },
     "execution_count": 35,
     "metadata": {},
     "output_type": "execute_result"
    }
   ],
   "source": [
    "all_stats[max_v_acc]"
   ]
  },
  {
   "cell_type": "code",
   "execution_count": 36,
   "metadata": {},
   "outputs": [
    {
     "data": {
      "image/png": "[encoded data removed]",
      "text/plain": [
       "<Figure size 432x288 with 2 Axes>"
      ]
     },
     "metadata": {
      "needs_background": "light"
     },
     "output_type": "display_data"
    }
   ],
   "source": [
    "pcm = metrics.ConfusionMatrixDisplay(confusion_matrix=all_stats[min_v_acc][\"cm\"])\n",
    "pcm.plot()\n",
    "plt.show()"
   ]
  },
  {
   "cell_type": "code",
   "execution_count": 37,
   "metadata": {},
   "outputs": [
    {
     "data": {
      "image/png": "[encoded data removed]",
      "text/plain": [
       "<Figure size 432x288 with 2 Axes>"
      ]
     },
     "metadata": {
      "needs_background": "light"
     },
     "output_type": "display_data"
    }
   ],
   "source": [
    "pcm = metrics.ConfusionMatrixDisplay(confusion_matrix=all_stats[max_v_acc][\"cm\"])\n",
    "pcm.plot()\n",
    "plt.show()"
   ]
  }
 ],
 "metadata": {
  "kernelspec": {
   "display_name": "Python 3",
   "language": "python",
   "name": "python3"
  },
  "language_info": {
   "codemirror_mode": {
    "name": "ipython",
    "version": 3
   },
   "file_extension": ".py",
   "mimetype": "text/x-python",
   "name": "python",
   "nbconvert_exporter": "python",
   "pygments_lexer": "ipython3",
   "version": "3.9.6"
  },
  "orig_nbformat": 4,
  "vscode": {
   "interpreter": {
    "hash": "48e016adc810f44ce10940e5316478a3a207f276705c01f8d308ed6cbd5d8765"
   }
  }
 },
 "nbformat": 4,
 "nbformat_minor": 2
}
